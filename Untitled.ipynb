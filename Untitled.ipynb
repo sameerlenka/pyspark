{
 "cells": [
  {
   "cell_type": "code",
   "execution_count": 1,
   "id": "fcd51076",
   "metadata": {},
   "outputs": [
    {
     "data": {
      "text/plain": [
       "'C:\\\\Users\\\\Admin\\\\anaconda3\\\\envs\\\\SparkEnvironment\\\\Lib\\\\site-packages\\\\pyspark'"
      ]
     },
     "execution_count": 1,
     "metadata": {},
     "output_type": "execute_result"
    }
   ],
   "source": [
    "import findspark\n",
    "findspark.init()\n",
    "findspark.find()\n"
   ]
  },
  {
   "cell_type": "code",
   "execution_count": 2,
   "id": "521d18c4",
   "metadata": {},
   "outputs": [
    {
     "data": {
      "text/html": [
       "\n",
       "            <div>\n",
       "                <p><b>SparkSession - in-memory</b></p>\n",
       "                \n",
       "        <div>\n",
       "            <p><b>SparkContext</b></p>\n",
       "\n",
       "            <p><a href=\"http://192.168.85.95:4043\">Spark UI</a></p>\n",
       "\n",
       "            <dl>\n",
       "              <dt>Version</dt>\n",
       "                <dd><code>v3.5.0</code></dd>\n",
       "              <dt>Master</dt>\n",
       "                <dd><code>local[4]</code></dd>\n",
       "              <dt>AppName</dt>\n",
       "                <dd><code>AqeDynamicCoalescingApp</code></dd>\n",
       "            </dl>\n",
       "        </div>\n",
       "        \n",
       "            </div>\n",
       "        "
      ],
      "text/plain": [
       "<pyspark.sql.session.SparkSession at 0x14636eaf550>"
      ]
     },
     "execution_count": 2,
     "metadata": {},
     "output_type": "execute_result"
    }
   ],
   "source": [
    "from pyspark.sql import SparkSession\n",
    "from pyspark.sql.types import *\n",
    "from pyspark.sql.functions import *\n",
    "\n",
    "spark = (\n",
    "            SparkSession\n",
    "                .builder\n",
    "                .appName(\"AqeDynamicCoalescingApp\")\n",
    "                .master(\"local[4]\")    \n",
    "                .config(\"spark.dynamicAllocation.enabled\",\"false\")\n",
    "                .config(\"spark.sql.adaptive.enabled\",\"false\")\n",
    "                .getOrCreate()\n",
    "        )\n",
    "\n",
    "sc = spark.sparkContext\n",
    "\n",
    "spark"
   ]
  },
  {
   "cell_type": "code",
   "execution_count": 3,
   "id": "5d46cc9d",
   "metadata": {},
   "outputs": [],
   "source": [
    "    def getDataFrameStatus(dataFrame,columnName):\n",
    "    \n",
    "    outputDF = (\n",
    "                    dataFrame\n",
    "                        .withColumn('Partition Number',spark_partition_id())\n",
    "                        .groupBy(\"Partition Number\")\n",
    "                        .agg(\n",
    "                                count(\"*\").alias(\"Record Count\"),\n",
    "                                min(columnName).alias(\"Min Column Value\"),\n",
    "                                max(columnName).alias(\"Max Column Value\")\n",
    "        \n",
    "                            )\n",
    "                        .orderBy(\"Partition Number\"))\n",
    "    \n",
    "    return outputDF"
   ]
  },
  {
   "cell_type": "code",
   "execution_count": 5,
   "id": "79f3d4d2",
   "metadata": {},
   "outputs": [
    {
     "name": "stdout",
     "output_type": "stream",
     "text": [
      "Partitions =4\n"
     ]
    }
   ],
   "source": [
    "yellowTaxiDF = (spark.read.option(\"header\",\"true\").option(\"inferSchema\",\"true\").csv(\"C:\\DataFiles\\YellowTaxis_202210.csv\"))\n",
    "\n",
    "print(\"Partitions =\"+str(yellowTaxiDF.rdd.getNumPartitions()))"
   ]
  },
  {
   "cell_type": "code",
   "execution_count": 6,
   "id": "e2a7ab5e",
   "metadata": {},
   "outputs": [],
   "source": [
    "spark.conf.set(\"spark.sql.shuffle.partitions\",20)"
   ]
  },
  {
   "cell_type": "code",
   "execution_count": 7,
   "id": "3ec02783",
   "metadata": {},
   "outputs": [
    {
     "name": "stdout",
     "output_type": "stream",
     "text": [
      "+--------+------------+--------------------+\n",
      "|VendorId|payment_type|   sum(total_amount)|\n",
      "+--------+------------+--------------------+\n",
      "|       1|           2|   3407067.990002185|\n",
      "|       2|           4|   1103.950000000002|\n",
      "|       1|           0|   704915.6500000019|\n",
      "|       1|           4|   73231.73999999865|\n",
      "|       1|           1|1.7903327639982704E7|\n",
      "|       6|           0|   279048.8899999997|\n",
      "|       2|           2|    9225232.37000579|\n",
      "|       1|           3|  186607.24000000514|\n",
      "|       2|           0|  2899635.7899999204|\n",
      "|       2|           1|4.7088665280070014E7|\n",
      "|       2|           3|   29.71999999999995|\n",
      "+--------+------------+--------------------+\n",
      "\n"
     ]
    }
   ],
   "source": [
    "yellowTaxiGroupDF = (yellowTaxiDF.groupBy(\"VendorId\",\"payment_type\").agg(sum(\"total_amount\")))\n",
    "\n",
    "yellowTaxiGroupDF.show()"
   ]
  },
  {
   "cell_type": "code",
   "execution_count": 8,
   "id": "9d9fa806",
   "metadata": {},
   "outputs": [
    {
     "name": "stdout",
     "output_type": "stream",
     "text": [
      "Partitions =20\n"
     ]
    }
   ],
   "source": [
    "print(\"Partitions =\"+str(yellowTaxiGroupDF.rdd.getNumPartitions()))"
   ]
  },
  {
   "cell_type": "code",
   "execution_count": 9,
   "id": "2b6e3149",
   "metadata": {},
   "outputs": [
    {
     "name": "stdout",
     "output_type": "stream",
     "text": [
      "+----------------+------------+----------------+----------------+\n",
      "|Partition Number|Record Count|Min Column Value|Max Column Value|\n",
      "+----------------+------------+----------------+----------------+\n",
      "|               1|           2|               1|               2|\n",
      "|               4|           1|               1|               1|\n",
      "|               5|           1|               1|               1|\n",
      "|               7|           1|               1|               1|\n",
      "|               8|           1|               6|               6|\n",
      "|               9|           3|               1|               2|\n",
      "|              17|           1|               2|               2|\n",
      "|              18|           1|               2|               2|\n",
      "+----------------+------------+----------------+----------------+\n",
      "\n"
     ]
    }
   ],
   "source": [
    "getDataFrameStatus(yellowTaxiGroupDF,\"VendorId\").show()"
   ]
  },
  {
   "cell_type": "code",
   "execution_count": 10,
   "id": "f1a724a5",
   "metadata": {},
   "outputs": [],
   "source": [
    "(yellowTaxiGroupDF.write.option(\"header\",\"true\")\n",
    " .option(\"dateFormat\",\"yyyy-MM-dd HH:mm:ss.S\")\n",
    " .mode(\"overwrite\")\n",
    " .csv(\"C:\\DataFiles\\output\\AqeTest.csv\"))"
   ]
  },
  {
   "cell_type": "code",
   "execution_count": 11,
   "id": "0a8754d1",
   "metadata": {},
   "outputs": [],
   "source": [
    "spark.conf.set(\"spark.sql.adaptive.enabled\",\"true\")\n",
    "spark.conf.set(\"spark.sql.adaptive.coalescePartitions.enabled\",\"true\")"
   ]
  },
  {
   "cell_type": "code",
   "execution_count": 12,
   "id": "3f67cc70",
   "metadata": {},
   "outputs": [
    {
     "name": "stdout",
     "output_type": "stream",
     "text": [
      "Partitions =1\n",
      "+----------------+------------+----------------+----------------+\n",
      "|Partition Number|Record Count|Min Column Value|Max Column Value|\n",
      "+----------------+------------+----------------+----------------+\n",
      "|               0|          11|               1|               6|\n",
      "+----------------+------------+----------------+----------------+\n",
      "\n"
     ]
    }
   ],
   "source": [
    "yellowTaxiGroupDF = (yellowTaxiDF.groupBy(\"VendorId\",\"payment_type\").agg(sum(\"total_amount\")))\n",
    "\n",
    "\n",
    "\n",
    "print(\"Partitions =\"+str(yellowTaxiGroupDF.rdd.getNumPartitions()))\n",
    "\n",
    "\n",
    "getDataFrameStatus(yellowTaxiGroupDF,\"VendorId\").show()"
   ]
  },
  {
   "cell_type": "code",
   "execution_count": null,
   "id": "27c7480f",
   "metadata": {},
   "outputs": [],
   "source": []
  }
 ],
 "metadata": {
  "kernelspec": {
   "display_name": "Python 3 (ipykernel)",
   "language": "python",
   "name": "python3"
  },
  "language_info": {
   "codemirror_mode": {
    "name": "ipython",
    "version": 3
   },
   "file_extension": ".py",
   "mimetype": "text/x-python",
   "name": "python",
   "nbconvert_exporter": "python",
   "pygments_lexer": "ipython3",
   "version": "3.11.5"
  }
 },
 "nbformat": 4,
 "nbformat_minor": 5
}
